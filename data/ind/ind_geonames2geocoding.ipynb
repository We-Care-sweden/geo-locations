{
 "cells": [
  {
   "cell_type": "code",
   "execution_count": 1,
   "metadata": {},
   "outputs": [
    {
     "name": "stdout",
     "output_type": "stream",
     "text": [
      "New WD: C:\\Users\\vzagolla\\Documents\\GitHub\\geo-locations\n"
     ]
    }
   ],
   "source": [
    "import os\n",
    "import pandas as pd\n",
    "import seaborn as sns\n",
    "from pathlib import Path\n",
    "import numpy as np\n",
    "\n",
    "def set_correct_working_dir(working_dir: str):\n",
    "    current_working_dir = Path(os.getcwd())\n",
    "    if working_dir == current_working_dir.name:\n",
    "        print('WD correct')\n",
    "        return\n",
    "    for directory in current_working_dir.parents:\n",
    "        if working_dir == directory.name:\n",
    "            os.chdir(str(directory.absolute()))\n",
    "            print('New WD:', str(directory.absolute()))\n",
    "            return\n",
    "    raise FileNotFoundError\n",
    "\n",
    "set_correct_working_dir('geo-locations')"
   ]
  },
  {
   "cell_type": "markdown",
   "metadata": {},
   "source": [
    "### Reading in data"
   ]
  },
  {
   "cell_type": "code",
   "execution_count": 20,
   "metadata": {},
   "outputs": [
    {
     "data": {
      "text/html": [
       "<div>\n",
       "<style scoped>\n",
       "    .dataframe tbody tr th:only-of-type {\n",
       "        vertical-align: middle;\n",
       "    }\n",
       "\n",
       "    .dataframe tbody tr th {\n",
       "        vertical-align: top;\n",
       "    }\n",
       "\n",
       "    .dataframe thead th {\n",
       "        text-align: right;\n",
       "    }\n",
       "</style>\n",
       "<table border=\"1\" class=\"dataframe\">\n",
       "  <thead>\n",
       "    <tr style=\"text-align: right;\">\n",
       "      <th></th>\n",
       "      <th>country_code</th>\n",
       "      <th>postal_code</th>\n",
       "      <th>place_name</th>\n",
       "      <th>admin_name_1</th>\n",
       "      <th>admin_code_1</th>\n",
       "      <th>admin_name_2</th>\n",
       "      <th>admin_code_2</th>\n",
       "      <th>admin_name_3</th>\n",
       "      <th>admin_code_3</th>\n",
       "      <th>latitude</th>\n",
       "      <th>longitude</th>\n",
       "      <th>accuracy</th>\n",
       "    </tr>\n",
       "  </thead>\n",
       "  <tbody>\n",
       "    <tr>\n",
       "      <th>0</th>\n",
       "      <td>IN</td>\n",
       "      <td>744101</td>\n",
       "      <td>Marine Jetty</td>\n",
       "      <td>Andaman &amp; Nicobar Islands</td>\n",
       "      <td>1</td>\n",
       "      <td>South Andaman</td>\n",
       "      <td>NaN</td>\n",
       "      <td>Portblair</td>\n",
       "      <td>NaN</td>\n",
       "      <td>11.6667</td>\n",
       "      <td>92.7500</td>\n",
       "      <td>3</td>\n",
       "    </tr>\n",
       "    <tr>\n",
       "      <th>1</th>\n",
       "      <td>IN</td>\n",
       "      <td>744101</td>\n",
       "      <td>Port Blair</td>\n",
       "      <td>Andaman &amp; Nicobar Islands</td>\n",
       "      <td>1</td>\n",
       "      <td>South Andaman</td>\n",
       "      <td>NaN</td>\n",
       "      <td>Port Blair</td>\n",
       "      <td>NaN</td>\n",
       "      <td>11.6667</td>\n",
       "      <td>92.7500</td>\n",
       "      <td>4</td>\n",
       "    </tr>\n",
       "    <tr>\n",
       "      <th>2</th>\n",
       "      <td>IN</td>\n",
       "      <td>744101</td>\n",
       "      <td>N.S.Building</td>\n",
       "      <td>Andaman &amp; Nicobar Islands</td>\n",
       "      <td>1</td>\n",
       "      <td>South Andaman</td>\n",
       "      <td>NaN</td>\n",
       "      <td>Portblair</td>\n",
       "      <td>NaN</td>\n",
       "      <td>11.6667</td>\n",
       "      <td>92.7500</td>\n",
       "      <td>3</td>\n",
       "    </tr>\n",
       "    <tr>\n",
       "      <th>3</th>\n",
       "      <td>IN</td>\n",
       "      <td>744102</td>\n",
       "      <td>Haddo</td>\n",
       "      <td>Andaman &amp; Nicobar Islands</td>\n",
       "      <td>1</td>\n",
       "      <td>South Andaman</td>\n",
       "      <td>NaN</td>\n",
       "      <td>Port Blair</td>\n",
       "      <td>NaN</td>\n",
       "      <td>11.6833</td>\n",
       "      <td>92.7167</td>\n",
       "      <td>4</td>\n",
       "    </tr>\n",
       "    <tr>\n",
       "      <th>4</th>\n",
       "      <td>IN</td>\n",
       "      <td>744102</td>\n",
       "      <td>Chatham</td>\n",
       "      <td>Andaman &amp; Nicobar Islands</td>\n",
       "      <td>1</td>\n",
       "      <td>South Andaman</td>\n",
       "      <td>NaN</td>\n",
       "      <td>Portblair</td>\n",
       "      <td>NaN</td>\n",
       "      <td>11.7000</td>\n",
       "      <td>92.6667</td>\n",
       "      <td>3</td>\n",
       "    </tr>\n",
       "  </tbody>\n",
       "</table>\n",
       "</div>"
      ],
      "text/plain": [
       "  country_code  postal_code    place_name               admin_name_1  \\\n",
       "0            IN      744101  Marine Jetty  Andaman & Nicobar Islands   \n",
       "1            IN      744101    Port Blair  Andaman & Nicobar Islands   \n",
       "2            IN      744101  N.S.Building  Andaman & Nicobar Islands   \n",
       "3            IN      744102         Haddo  Andaman & Nicobar Islands   \n",
       "4            IN      744102       Chatham  Andaman & Nicobar Islands   \n",
       "\n",
       "   admin_code_1   admin_name_2  admin_code_2 admin_name_3  admin_code_3  \\\n",
       "0             1  South Andaman           NaN    Portblair           NaN   \n",
       "1             1  South Andaman           NaN   Port Blair           NaN   \n",
       "2             1  South Andaman           NaN    Portblair           NaN   \n",
       "3             1  South Andaman           NaN   Port Blair           NaN   \n",
       "4             1  South Andaman           NaN    Portblair           NaN   \n",
       "\n",
       "   latitude  longitude  accuracy  \n",
       "0   11.6667    92.7500         3  \n",
       "1   11.6667    92.7500         4  \n",
       "2   11.6667    92.7500         3  \n",
       "3   11.6833    92.7167         4  \n",
       "4   11.7000    92.6667         3  "
      ]
     },
     "metadata": {},
     "output_type": "display_data"
    }
   ],
   "source": [
    "country_code = 'ind'\n",
    "country_path = Path(os.getcwd()) / 'data' / country_code\n",
    "source = country_path / 'source' / 'IN.txt'\n",
    "# column description to be found at: https://download.geonames.org/export/zip/\n",
    "geonames_df = pd.read_csv(source, sep='\\t', names=['country_code ', 'postal_code', 'place_name', 'admin_name_1', 'admin_code_1', 'admin_name_2', 'admin_code_2', 'admin_name_3', 'admin_code_3', 'latitude', 'longitude', 'accuracy'], converters={'postal_code': str})\n",
    "display(geonames_df.head())"
   ]
  },
  {
   "cell_type": "markdown",
   "metadata": {},
   "source": [
    "### Combining Data\n",
    "The wanted format is: country_code, npa_plz, town, state, latitude, longitude\n",
    "- country code: ISO 3166, alpha3\n",
    "\n",
    "#### Geonames cleanup"
   ]
  },
  {
   "cell_type": "code",
   "execution_count": 21,
   "metadata": {},
   "outputs": [],
   "source": [
    "df = geonames_df.copy()\n",
    "df.rename(columns={'country_code ': 'country_code', 'admin_name_1': 'region', 'admin_name_2': 'town'}, inplace=True)"
   ]
  },
  {
   "cell_type": "markdown",
   "metadata": {},
   "source": [
    "#### Source specific cleanup\n",
    "Place name doesn't seem to be needed. Information at that level would be too sparse"
   ]
  },
  {
   "cell_type": "code",
   "execution_count": 22,
   "metadata": {},
   "outputs": [],
   "source": [
    "# nothing to do for india\n",
    "pass"
   ]
  },
  {
   "cell_type": "markdown",
   "metadata": {},
   "source": [
    "#### Reduce to unique postal codes\n",
    "- Postal codes should be unique (makes data merging MUCH easier)\n",
    "- the lat/long data of duplicate postal_codes is merged by taking the mean"
   ]
  },
  {
   "cell_type": "code",
   "execution_count": 23,
   "metadata": {},
   "outputs": [
    {
     "data": {
      "text/html": [
       "<div>\n",
       "<style scoped>\n",
       "    .dataframe tbody tr th:only-of-type {\n",
       "        vertical-align: middle;\n",
       "    }\n",
       "\n",
       "    .dataframe tbody tr th {\n",
       "        vertical-align: top;\n",
       "    }\n",
       "\n",
       "    .dataframe thead th {\n",
       "        text-align: right;\n",
       "    }\n",
       "</style>\n",
       "<table border=\"1\" class=\"dataframe\">\n",
       "  <thead>\n",
       "    <tr style=\"text-align: right;\">\n",
       "      <th></th>\n",
       "      <th>country_code</th>\n",
       "      <th>postal_code</th>\n",
       "      <th>town</th>\n",
       "      <th>region</th>\n",
       "      <th>latitude</th>\n",
       "      <th>longitude</th>\n",
       "    </tr>\n",
       "  </thead>\n",
       "  <tbody>\n",
       "    <tr>\n",
       "      <th>0</th>\n",
       "      <td>ind</td>\n",
       "      <td>110001</td>\n",
       "      <td>New Delhi;Central Delhi</td>\n",
       "      <td>Delhi</td>\n",
       "      <td>28.637095</td>\n",
       "      <td>77.216200</td>\n",
       "    </tr>\n",
       "    <tr>\n",
       "      <th>1</th>\n",
       "      <td>ind</td>\n",
       "      <td>110002</td>\n",
       "      <td>Central Delhi</td>\n",
       "      <td>Delhi</td>\n",
       "      <td>28.563486</td>\n",
       "      <td>77.271714</td>\n",
       "    </tr>\n",
       "    <tr>\n",
       "      <th>2</th>\n",
       "      <td>ind</td>\n",
       "      <td>110003</td>\n",
       "      <td>South Delhi;Central Delhi</td>\n",
       "      <td>Delhi</td>\n",
       "      <td>28.610500</td>\n",
       "      <td>77.232900</td>\n",
       "    </tr>\n",
       "    <tr>\n",
       "      <th>3</th>\n",
       "      <td>ind</td>\n",
       "      <td>110004</td>\n",
       "      <td>Central Delhi</td>\n",
       "      <td>Delhi</td>\n",
       "      <td>28.610500</td>\n",
       "      <td>77.232900</td>\n",
       "    </tr>\n",
       "    <tr>\n",
       "      <th>4</th>\n",
       "      <td>ind</td>\n",
       "      <td>110005</td>\n",
       "      <td>Central Delhi</td>\n",
       "      <td>Delhi</td>\n",
       "      <td>28.651600</td>\n",
       "      <td>77.188600</td>\n",
       "    </tr>\n",
       "  </tbody>\n",
       "</table>\n",
       "</div>"
      ],
      "text/plain": [
       "  country_code postal_code                       town region   latitude  \\\n",
       "0          ind      110001    New Delhi;Central Delhi  Delhi  28.637095   \n",
       "1          ind      110002              Central Delhi  Delhi  28.563486   \n",
       "2          ind      110003  South Delhi;Central Delhi  Delhi  28.610500   \n",
       "3          ind      110004              Central Delhi  Delhi  28.610500   \n",
       "4          ind      110005              Central Delhi  Delhi  28.651600   \n",
       "\n",
       "   longitude  \n",
       "0  77.216200  \n",
       "1  77.271714  \n",
       "2  77.232900  \n",
       "3  77.232900  \n",
       "4  77.188600  "
      ]
     },
     "metadata": {},
     "output_type": "display_data"
    }
   ],
   "source": [
    "reduced_df = reduced_df.groupby('postal_code').agg({'town': lambda col: ','.join(col),\n",
    "                                                    'region': lambda col: ','.join(col), \n",
    "                                                    'latitude': 'mean',\n",
    "                                                    'longitude': 'mean'}).reset_index()\n",
    "reduced_df['town'] = reduced_df['town'].apply(lambda x: ';'.join(list(set(x.split(',')))) if ',' in x else x)\n",
    "reduced_df['region'] = reduced_df['region'].apply(lambda x: ';'.join(list(set(x.split(',')))) if ',' in x else x)\n",
    "reduced_df.reset_index(inplace=True, drop=True)\n",
    "reduced_df.sort_values('postal_code', inplace=True)\n",
    "reduced_df.insert(loc=0, column='country_code', value=country_code)\n",
    "display(reduced_df.head())"
   ]
  },
  {
   "cell_type": "markdown",
   "metadata": {},
   "source": [
    "### Writing file"
   ]
  },
  {
   "cell_type": "code",
   "execution_count": 25,
   "metadata": {},
   "outputs": [],
   "source": [
    "file_path = country_path / '_'.join([country_code, 'geocoding.csv'])\n",
    "df_m.to_csv(file_path, index=False)"
   ]
  },
  {
   "cell_type": "code",
   "execution_count": null,
   "metadata": {},
   "outputs": [],
   "source": []
  }
 ],
 "metadata": {
  "kernelspec": {
   "display_name": "Python 3",
   "language": "python",
   "name": "python3"
  },
  "language_info": {
   "codemirror_mode": {
    "name": "ipython",
    "version": 3
   },
   "file_extension": ".py",
   "mimetype": "text/x-python",
   "name": "python",
   "nbconvert_exporter": "python",
   "pygments_lexer": "ipython3",
   "version": "3.7.6"
  }
 },
 "nbformat": 4,
 "nbformat_minor": 4
}
