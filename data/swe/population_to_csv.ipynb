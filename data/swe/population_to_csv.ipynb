{
 "cells": [
  {
   "cell_type": "code",
   "execution_count": 76,
   "metadata": {},
   "outputs": [],
   "source": [
    "import codecs\n",
    "import pandas as pd\n",
    "\n",
    "doc = codecs.open('population.txt','rU') #open for reading with \"universal\" type set\n",
    "\n",
    "df = pd.read_csv(doc, sep='\\t')\n",
    "\n",
    "df['npa_plz'] = [df['region'][i][0:df['region'][i].find(' ')] for i in range(df.shape[0])]\n",
    "df['region'] = [df['region'][i][df['region'][i].find(' ')+1:-1] for i in range(df.shape[0])]\n",
    "\n",
    "df = df.rename(columns = {'region':'region_id', 'Population':'population'})\n",
    "\n",
    "df = df[['npa_plz', 'region_id', 'population', 'year']]\n",
    "\n",
    "df.to_csv('population.csv', index=False)\n"
   ]
  }
 ],
 "metadata": {
  "kernelspec": {
   "display_name": "Python 3",
   "language": "python",
   "name": "python3"
  },
  "language_info": {
   "codemirror_mode": {
    "name": "ipython",
    "version": 3
   },
   "file_extension": ".py",
   "mimetype": "text/x-python",
   "name": "python",
   "nbconvert_exporter": "python",
   "pygments_lexer": "ipython3",
   "version": "3.7.3"
  }
 },
 "nbformat": 4,
 "nbformat_minor": 2
}
